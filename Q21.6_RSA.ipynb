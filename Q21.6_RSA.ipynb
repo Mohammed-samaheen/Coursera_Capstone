{
    "cells": [
        {
            "metadata": {
                "collapsed": true
            },
            "cell_type": "markdown",
            "source": "<a><img src=\"https://lh3.googleusercontent.com/proxy/nW-BSLwWI4NbFbUZX5_sBWJV7tCmva-UbyaA1F8tHZdq1k-HmM40kMMEwx1bmS7E95QAHlM6iK4S_tuFmbgEbWBtYjhbaA\" width=\"200\" align=\"center\"></a>"
        },
        {
            "metadata": {},
            "cell_type": "markdown",
            "source": "<h1>Information Security  </h1>\n<h3>Dr.Radwan Tahboub </h3>"
        },
        {
            "metadata": {},
            "cell_type": "markdown",
            "source": "<p></p>"
        },
        {
            "metadata": {},
            "cell_type": "markdown",
            "source": "<h5>Textbook : Computer Security Principles and Practice 4th </h5>\n<h5>Problems: 21.6 </h5>"
        },
        {
            "metadata": {},
            "cell_type": "markdown",
            "source": "<h6>Perform encryption and decryption using the RSA algorithm, as in Figure 21.8, for the\nfollowing:</h6>\n<ul>\n        <li> p = 13; q = 31, e = 19; M = 2</li>\n        <li> p = 11; q = 31, e = 7; M = 4</li>\n        <li> p = 3; q = 17, e = 5; M = 5</li>\n        <li> p = 5; q = 17, e = 7; M = 6</li>\n        <li> p = 7; q = 17, e = 29; M = 3</li>\n    </ul>"
        },
        {
            "metadata": {},
            "cell_type": "markdown",
            "source": "<p></p>"
        },
        {
            "metadata": {},
            "cell_type": "markdown",
            "source": "<p></p>"
        },
        {
            "metadata": {},
            "cell_type": "markdown",
            "source": "<p></p>"
        },
        {
            "metadata": {},
            "cell_type": "markdown",
            "source": "<h3>Author: Mohammed Samaheen </h3>\n<h4>ID    : 171004 </h4>"
        },
        {
            "metadata": {},
            "cell_type": "code",
            "source": "\nimport fractions\n\n# Default message is 7, only p and q required to run test\ndef do_rsa(p, q, e = None, m = 7, sign_verify = False):\n  # Show given data\n  print (\"Given:\\np =\", p, \"\\nq =\", q, \"\\ne =\", e, \"\\nm =\", m)\n\n  # Step one\n  print (\"\\nStep one is done since we are given p and q, such that they are two distinct prime numbers.\")\n\n  # Step two\n  print (\"\\nStep two, get n where n = pq\")\n  print (\"n =\", p,\"*\",q)\n  n = p * q\n  print (\"n =\", n )\n\n  # Step three\n  print (\"\\nStep three, get \\\"phe\\\" where phe(n) = (p - 1)(q - 1)\")\n  print (\"phe(\" + str(n) + \") = (\" + str(p) + \" - 1)(\" + str(q) + \" - 1)\")\n  phe = (p - 1) * (q - 1)\n  print (\"phe(\" + str(n) + \") =\", phe)\n\n  # Step four\n  print (\"\\nStep four, select e such that e is relatively prime to phe(n); gcd(phe(n), e) = 1 where 1 < e < phe(n)\")\n  print (\"gcd(\" + str(phe) +  \", e) = 1; 1 < e <\", phe)\n\n  if e is not None:\n    print (\"Given: e =\", e)\n  else:\n    for pos_e in range(2, phe):\n      if fractions.gcd(phe, pos_e) == 1:\n        e = pos_e\n        print (\"gcd(\" + str(phe) +  \",\", str(e) + \") = 1; 1 <\", e, \"<\", phe)\n        print (\"e =\", e)\n        break\n\n  # Step five\n  print (\"\\nStep five, determine d such that d*e % phe(n) = 1; d < phe(n)\")\n  print (\"d *\", e, \"%\", phe, \"= 1; d <\", phe)\n\n  d = None\n  for pos_d in range(1, phe):\n    if ((pos_d * e) % phe) == 1:\n      d = pos_d\n      print (d, \"*\", e, \"%\", phe, \"= 1;\", d, \"<\", phe)\n      break\n\n  print (\"d =\", d)\n\n  # Find public key\n  print (\"\\nPublic key KU = [e, n]\")\n  print (\"KU = [\" + str(e) + \", \" + str(n) + \"]\")\n\n  # Find private key\n  print (\"\\nPrivate key KR = [d, n]\")\n  print (\"KR = [\" + str(d) + \", \" + str(n) + \"]\")\n\n  # Do encryption\n  print (\"\\nEncryption c = m^e % n; m < n\")\n  print (\"c =\", str(m) + \"^\" + str(e), \"%\", str(n) + \";\", m, \"<\", n)\n  c = m**e % n\n  print (\"c =\", c)\n\n  # Do decryption\n  print (\"\\nDecryption m = c^d % n\")\n  print (\"m =\", str(c) + \"^\" + str(d), \"%\", str(n))\n  found_m = c**d % n\n  print (\"m =\", found_m)\n\n  # Confirm result\n  if found_m != m:\n    print (\"Failure: Decrypted message is incorrect\")\n  else:\n    print (\"Success: Message decrypted correctly\")\n\n  # If not doing signature, exit\n  if not sign_verify:\n    return\n\n  # Find signature\n  print (\"\\nSign s = m^d % n; m < n\")\n  print( \"s =\", str(m) + \"^\" + str(d), \"%\", str(n) + \";\", m, \"<\", n)\n  s = m**d % n\n  print (\"s =\", s)\n\n  # Verify signature\n  print (\"\\nVerify m = s^e % n\")\n  print (\"m =\", str(s) + \"^\" + str(e), \"%\", str(n))\n  verify_m = s**e % n\n  print (\"m =\", verify_m)\n\n  # Confirm result\n  if verify_m != m:\n    print (\"Failure: Message verification failed\")\n  else:\n    print (\"Success: Message verification succeeded\")\n    \n\nprint (\"PROBLEM 21.6 A\\n\")\ndo_rsa(p = 13, q = 31, e = 19, m = 2)\nprint (\"\\n\\nPROBLEM 21.6 B\\n\")\ndo_rsa(p = 11, q = 31, e = 7, m = 4)\nprint (\"\\n\\nPROBLEM 21.6 c\\n\")\ndo_rsa(p = 3, q = 17, e = 5, m = 5)\nprint (\"\\n\\nPROBLEM 21.6 D\\n\")\ndo_rsa(p = 5, q = 17, e = 7, m = 6)\nprint (\"\\n\\nPROBLEM 21.6 E\\n\")\ndo_rsa(p = 67, q = 71, e = 47, m = 3)\n\n",
            "execution_count": 4,
            "outputs": [
                {
                    "output_type": "stream",
                    "text": "PROBLEM 21.6 A\n\nGiven:\np = 13 \nq = 31 \ne = 19 \nm = 2\n\nStep one is done since we are given p and q, such that they are two distinct prime numbers.\n\nStep two, get n where n = pq\nn = 13 * 31\nn = 403\n\nStep three, get \"phe\" where phe(n) = (p - 1)(q - 1)\nphe(403) = (13 - 1)(31 - 1)\nphe(403) = 360\n\nStep four, select e such that e is relatively prime to phe(n); gcd(phe(n), e) = 1 where 1 < e < phe(n)\ngcd(360, e) = 1; 1 < e < 360\nGiven: e = 19\n\nStep five, determine d such that d*e % phe(n) = 1; d < phe(n)\nd * 19 % 360 = 1; d < 360\n19 * 19 % 360 = 1; 19 < 360\nd = 19\n\nPublic key KU = [e, n]\nKU = [19, 403]\n\nPrivate key KR = [d, n]\nKR = [19, 403]\n\nEncryption c = m^e % n; m < n\nc = 2^19 % 403; 2 < 403\nc = 388\n\nDecryption m = c^d % n\nm = 388^19 % 403\nm = 2\nSuccess: Message decrypted correctly\n\n\nPROBLEM 21.6 B\n\nGiven:\np = 11 \nq = 31 \ne = 7 \nm = 4\n\nStep one is done since we are given p and q, such that they are two distinct prime numbers.\n\nStep two, get n where n = pq\nn = 11 * 31\nn = 341\n\nStep three, get \"phe\" where phe(n) = (p - 1)(q - 1)\nphe(341) = (11 - 1)(31 - 1)\nphe(341) = 300\n\nStep four, select e such that e is relatively prime to phe(n); gcd(phe(n), e) = 1 where 1 < e < phe(n)\ngcd(300, e) = 1; 1 < e < 300\nGiven: e = 7\n\nStep five, determine d such that d*e % phe(n) = 1; d < phe(n)\nd * 7 % 300 = 1; d < 300\n43 * 7 % 300 = 1; 43 < 300\nd = 43\n\nPublic key KU = [e, n]\nKU = [7, 341]\n\nPrivate key KR = [d, n]\nKR = [43, 341]\n\nEncryption c = m^e % n; m < n\nc = 4^7 % 341; 4 < 341\nc = 16\n\nDecryption m = c^d % n\nm = 16^43 % 341\nm = 4\nSuccess: Message decrypted correctly\n\n\nPROBLEM 21.6 c\n\nGiven:\np = 3 \nq = 17 \ne = 5 \nm = 5\n\nStep one is done since we are given p and q, such that they are two distinct prime numbers.\n\nStep two, get n where n = pq\nn = 3 * 17\nn = 51\n\nStep three, get \"phe\" where phe(n) = (p - 1)(q - 1)\nphe(51) = (3 - 1)(17 - 1)\nphe(51) = 32\n\nStep four, select e such that e is relatively prime to phe(n); gcd(phe(n), e) = 1 where 1 < e < phe(n)\ngcd(32, e) = 1; 1 < e < 32\nGiven: e = 5\n\nStep five, determine d such that d*e % phe(n) = 1; d < phe(n)\nd * 5 % 32 = 1; d < 32\n13 * 5 % 32 = 1; 13 < 32\nd = 13\n\nPublic key KU = [e, n]\nKU = [5, 51]\n\nPrivate key KR = [d, n]\nKR = [13, 51]\n\nEncryption c = m^e % n; m < n\nc = 5^5 % 51; 5 < 51\nc = 14\n\nDecryption m = c^d % n\nm = 14^13 % 51\nm = 5\nSuccess: Message decrypted correctly\n\n\nPROBLEM 21.6 D\n\nGiven:\np = 5 \nq = 17 \ne = 7 \nm = 6\n\nStep one is done since we are given p and q, such that they are two distinct prime numbers.\n\nStep two, get n where n = pq\nn = 5 * 17\nn = 85\n\nStep three, get \"phe\" where phe(n) = (p - 1)(q - 1)\nphe(85) = (5 - 1)(17 - 1)\nphe(85) = 64\n\nStep four, select e such that e is relatively prime to phe(n); gcd(phe(n), e) = 1 where 1 < e < phe(n)\ngcd(64, e) = 1; 1 < e < 64\nGiven: e = 7\n\nStep five, determine d such that d*e % phe(n) = 1; d < phe(n)\nd * 7 % 64 = 1; d < 64\n55 * 7 % 64 = 1; 55 < 64\nd = 55\n\nPublic key KU = [e, n]\nKU = [7, 85]\n\nPrivate key KR = [d, n]\nKR = [55, 85]\n\nEncryption c = m^e % n; m < n\nc = 6^7 % 85; 6 < 85\nc = 31\n\nDecryption m = c^d % n\nm = 31^55 % 85\nm = 6\nSuccess: Message decrypted correctly\n\n\nPROBLEM 21.6 E\n\nGiven:\np = 67 \nq = 71 \ne = 47 \nm = 3\n\nStep one is done since we are given p and q, such that they are two distinct prime numbers.\n\nStep two, get n where n = pq\nn = 67 * 71\nn = 4757\n\nStep three, get \"phe\" where phe(n) = (p - 1)(q - 1)\nphe(4757) = (67 - 1)(71 - 1)\nphe(4757) = 4620\n\nStep four, select e such that e is relatively prime to phe(n); gcd(phe(n), e) = 1 where 1 < e < phe(n)\ngcd(4620, e) = 1; 1 < e < 4620\nGiven: e = 47\n\nStep five, determine d such that d*e % phe(n) = 1; d < phe(n)\nd * 47 % 4620 = 1; d < 4620\n983 * 47 % 4620 = 1; 983 < 4620\nd = 983\n\nPublic key KU = [e, n]\nKU = [47, 4757]\n\nPrivate key KR = [d, n]\nKR = [983, 4757]\n\nEncryption c = m^e % n; m < n\nc = 3^47 % 4757; 3 < 4757\nc = 1568\n\nDecryption m = c^d % n\nm = 1568^983 % 4757\nm = 3\nSuccess: Message decrypted correctly\n",
                    "name": "stdout"
                }
            ]
        },
        {
            "metadata": {},
            "cell_type": "code",
            "source": "",
            "execution_count": null,
            "outputs": []
        }
    ],
    "metadata": {
        "kernelspec": {
            "name": "python3",
            "display_name": "Python 3.6",
            "language": "python"
        },
        "language_info": {
            "name": "python",
            "version": "3.6.9",
            "mimetype": "text/x-python",
            "codemirror_mode": {
                "name": "ipython",
                "version": 3
            },
            "pygments_lexer": "ipython3",
            "nbconvert_exporter": "python",
            "file_extension": ".py"
        }
    },
    "nbformat": 4,
    "nbformat_minor": 1
}